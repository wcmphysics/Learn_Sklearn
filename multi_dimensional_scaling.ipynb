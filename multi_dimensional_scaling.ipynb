{
 "cells": [
  {
   "cell_type": "markdown",
   "metadata": {},
   "source": [
    "# Multi-Dimensional Scaling"
   ]
  },
  {
   "cell_type": "markdown",
   "metadata": {},
   "source": [
    "Nice overview of many aspect of MDS from [Geeksforgeeks](https://www.geeksforgeeks.org/sklearn-multi-dimensional-scaling-mds-python-implementation-from-scratch/).\n",
    "\n",
    "May also try PCA and t-SNE. See quick comparison [here](https://www.geeksforgeeks.org/multidimensional-scaling-mds-using-scikit-learn/).\n"
   ]
  },
  {
   "cell_type": "code",
   "execution_count": 24,
   "metadata": {},
   "outputs": [],
   "source": [
    "from sklearn.manifold import MDS, TSNE\n",
    "from sklearn.decomposition import PCA\n",
    "from sklearn.metrics import euclidean_distances\n",
    "import numpy as np\n",
    "import matplotlib.pyplot as plt\n",
    "import seaborn as sn \n",
    "import pandas as pd"
   ]
  },
  {
   "cell_type": "code",
   "execution_count": 25,
   "metadata": {},
   "outputs": [
    {
     "data": {
      "text/html": [
       "<div>\n",
       "<style scoped>\n",
       "    .dataframe tbody tr th:only-of-type {\n",
       "        vertical-align: middle;\n",
       "    }\n",
       "\n",
       "    .dataframe tbody tr th {\n",
       "        vertical-align: top;\n",
       "    }\n",
       "\n",
       "    .dataframe thead th {\n",
       "        text-align: right;\n",
       "    }\n",
       "</style>\n",
       "<table border=\"1\" class=\"dataframe\">\n",
       "  <thead>\n",
       "    <tr style=\"text-align: right;\">\n",
       "      <th></th>\n",
       "      <th>Dimension1</th>\n",
       "      <th>Dimension2</th>\n",
       "      <th>Dimension3</th>\n",
       "      <th>Dimension4</th>\n",
       "    </tr>\n",
       "  </thead>\n",
       "  <tbody>\n",
       "    <tr>\n",
       "      <th>0</th>\n",
       "      <td>2.748161</td>\n",
       "      <td>0.211844</td>\n",
       "      <td>-0.871446</td>\n",
       "      <td>-0.183419</td>\n",
       "    </tr>\n",
       "    <tr>\n",
       "      <th>1</th>\n",
       "      <td>0.833168</td>\n",
       "      <td>-0.312681</td>\n",
       "      <td>0.174797</td>\n",
       "      <td>-0.737660</td>\n",
       "    </tr>\n",
       "    <tr>\n",
       "      <th>2</th>\n",
       "      <td>-1.328252</td>\n",
       "      <td>0.384031</td>\n",
       "      <td>0.197570</td>\n",
       "      <td>-1.036843</td>\n",
       "    </tr>\n",
       "    <tr>\n",
       "      <th>3</th>\n",
       "      <td>-0.008637</td>\n",
       "      <td>-0.859466</td>\n",
       "      <td>-0.741398</td>\n",
       "      <td>0.239453</td>\n",
       "    </tr>\n",
       "    <tr>\n",
       "      <th>4</th>\n",
       "      <td>-1.890944</td>\n",
       "      <td>1.361545</td>\n",
       "      <td>-0.504017</td>\n",
       "      <td>-0.242015</td>\n",
       "    </tr>\n",
       "  </tbody>\n",
       "</table>\n",
       "</div>"
      ],
      "text/plain": [
       "   Dimension1  Dimension2  Dimension3  Dimension4\n",
       "0    2.748161    0.211844   -0.871446   -0.183419\n",
       "1    0.833168   -0.312681    0.174797   -0.737660\n",
       "2   -1.328252    0.384031    0.197570   -1.036843\n",
       "3   -0.008637   -0.859466   -0.741398    0.239453\n",
       "4   -1.890944    1.361545   -0.504017   -0.242015"
      ]
     },
     "execution_count": 25,
     "metadata": {},
     "output_type": "execute_result"
    }
   ],
   "source": [
    "df_original = pd.DataFrame(np.random.randn(100,4))\n",
    "df_original.columns = ['Dimension' + str(i+1) for i in range(len(df_original.columns))]\n",
    "df_original.head()"
   ]
  },
  {
   "cell_type": "markdown",
   "metadata": {},
   "source": [
    "### MDS & NMDS"
   ]
  },
  {
   "cell_type": "code",
   "execution_count": 26,
   "metadata": {},
   "outputs": [
    {
     "name": "stdout",
     "output_type": "stream",
     "text": [
      "Stress: 2155.0049211874357 220.57670272824953\n"
     ]
    }
   ],
   "source": [
    "mds = MDS(n_components=2, metric=True, max_iter=3000, eps=1e-10, random_state=0) \n",
    "nmds = MDS(n_components=2, metric=False, max_iter=3000, eps=1e-10, random_state=0) \n",
    "df_mds = pd.DataFrame(mds.fit_transform(df_original))\n",
    "df_mds.columns=['Dimension' + str(i+1) for i in range(mds.embedding_.shape[1])]\n",
    "df_nmds = pd.DataFrame(nmds.fit_transform(df_original))\n",
    "df_nmds.columns=['Dimension' + str(i+1) for i in range(nmds.embedding_.shape[1])]\n",
    "print('Stress:', mds.stress_, nmds.stress_)"
   ]
  },
  {
   "cell_type": "code",
   "execution_count": 27,
   "metadata": {},
   "outputs": [
    {
     "data": {
      "text/plain": [
       "<AxesSubplot:xlabel='Dimension1', ylabel='Dimension2'>"
      ]
     },
     "execution_count": 27,
     "metadata": {},
     "output_type": "execute_result"
    },
    {
     "data": {
      "image/png": "[encoded data removed]",
      "text/plain": [
       "<Figure size 432x288 with 1 Axes>"
      ]
     },
     "metadata": {
      "needs_background": "light"
     },
     "output_type": "display_data"
    }
   ],
   "source": [
    "axs = sn.scatterplot(data=df_original, x='Dimension1', y='Dimension2', label='original')\n",
    "sn.scatterplot(data=df_mds, x='Dimension1', y='Dimension2', label='MDS', ax=axs)\n",
    "sn.scatterplot(data=df_nmds, x='Dimension1', y='Dimension2', label='NMDS', ax=axs)"
   ]
  },
  {
   "cell_type": "markdown",
   "metadata": {},
   "source": [
    "### PCA"
   ]
  },
  {
   "cell_type": "code",
   "execution_count": 42,
   "metadata": {},
   "outputs": [
    {
     "name": "stdout",
     "output_type": "stream",
     "text": [
      "Total explained ratio: 0.5697799455609212\n",
      "explained ratio: [0.29975551 0.27002444]\n",
      "singular values: [10.59634979 10.05713406]\n"
     ]
    }
   ],
   "source": [
    "pca = PCA(n_components=2)\n",
    "df_pca = pd.DataFrame(pca.fit_transform(df_original), columns=['Dimension' + str(i+1) for i in range(pca.n_components_)])\n",
    "print('Total explained ratio:', sum(pca.explained_variance_ratio_))\n",
    "print('explained ratio:', pca.explained_variance_ratio_)\n",
    "print('singular values:', pca.singular_values_)"
   ]
  },
  {
   "cell_type": "code",
   "execution_count": 43,
   "metadata": {},
   "outputs": [
    {
     "data": {
      "text/plain": [
       "<AxesSubplot:xlabel='Dimension1', ylabel='Dimension2'>"
      ]
     },
     "execution_count": 43,
     "metadata": {},
     "output_type": "execute_result"
    },
    {
     "data": {
      "image/png": "[encoded data removed]",
      "text/plain": [
       "<Figure size 432x288 with 1 Axes>"
      ]
     },
     "metadata": {
      "needs_background": "light"
     },
     "output_type": "display_data"
    }
   ],
   "source": [
    "axs = sn.scatterplot(data=df_original, x='Dimension1', y='Dimension2', label='original')\n",
    "sn.scatterplot(data=df_pca, x='Dimension1', y='Dimension2', label='PCA', ax=axs)"
   ]
  },
  {
   "cell_type": "markdown",
   "metadata": {},
   "source": [
    "### Transformation"
   ]
  },
  {
   "cell_type": "code",
   "execution_count": 44,
   "metadata": {},
   "outputs": [
    {
     "name": "stdout",
     "output_type": "stream",
     "text": [
      "[[1, 2, 3, 4]] [[3.25195374 1.13469258]]\n"
     ]
    },
    {
     "name": "stderr",
     "output_type": "stream",
     "text": [
      "c:\\Users\\Marsspi\\AppData\\Local\\Programs\\Python\\Python37\\lib\\site-packages\\sklearn\\base.py:451: UserWarning: X does not have valid feature names, but PCA was fitted with feature names\n",
      "  \"X does not have valid feature names, but\"\n"
     ]
    }
   ],
   "source": [
    "point = [[1, 2, 3, 4]]\n",
    "point_transformed = pca.transform(point)\n",
    "print(point, point_transformed)\n"
   ]
  },
  {
   "cell_type": "code",
   "execution_count": 45,
   "metadata": {},
   "outputs": [
    {
     "name": "stdout",
     "output_type": "stream",
     "text": [
      "[[1, 2, 3, 4]] [[ 2.0606793  -1.21300458  1.88182616  1.53334619]]\n"
     ]
    }
   ],
   "source": [
    "print(point, pca.inverse_transform(point_transformed)) # the result is not the same since the number of components in PCA is different from the original"
   ]
  }
 ],
 "metadata": {
  "kernelspec": {
   "display_name": "Python 3",
   "language": "python",
   "name": "python3"
  },
  "language_info": {
   "codemirror_mode": {
    "name": "ipython",
    "version": 3
   },
   "file_extension": ".py",
   "mimetype": "text/x-python",
   "name": "python",
   "nbconvert_exporter": "python",
   "pygments_lexer": "ipython3",
   "version": "3.7.9"
  }
 },
 "nbformat": 4,
 "nbformat_minor": 2
}
