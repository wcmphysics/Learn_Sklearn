{
 "cells": [
  {
   "cell_type": "markdown",
   "metadata": {},
   "source": [
    "# Multi-Dimensional Scaling"
   ]
  },
  {
   "cell_type": "markdown",
   "metadata": {},
   "source": [
    "Nice overview of many aspect of MDS from [Geeksforgeeks](https://www.geeksforgeeks.org/sklearn-multi-dimensional-scaling-mds-python-implementation-from-scratch/).\n",
    "\n",
    "May also try PCA and t-SNE. See quick comparison [here](https://www.geeksforgeeks.org/multidimensional-scaling-mds-using-scikit-learn/).\n"
   ]
  },
  {
   "cell_type": "code",
   "execution_count": 58,
   "metadata": {},
   "outputs": [],
   "source": [
    "from sklearn.manifold import MDS, TSNE\n",
    "from sklearn.decomposition import PCA\n",
    "from sklearn.metrics import euclidean_distances\n",
    "import numpy as np\n",
    "import matplotlib.pyplot as plt\n",
    "import seaborn as sn \n",
    "import pandas as pd"
   ]
  },
  {
   "cell_type": "code",
   "execution_count": 72,
   "metadata": {},
   "outputs": [],
   "source": [
    "df_original = pd.DataFrame(np.random.randn(20,5))"
   ]
  },
  {
   "cell_type": "code",
   "execution_count": 73,
   "metadata": {},
   "outputs": [],
   "source": [
    "mds = MDS(n_components=2, metric=True, max_iter=3000, eps=1e-10, random_state=0) \n",
    "nmds = MDS(n_components=2, metric=False, max_iter=3000, eps=1e-10, random_state=0) \n",
    "df_mds = pd.DataFrame(mds.fit_transform(df_original))\n",
    "df_nmds = pd.DataFrame(nmds.fit_transform(df_original))"
   ]
  },
  {
   "cell_type": "code",
   "execution_count": 74,
   "metadata": {},
   "outputs": [
    {
     "name": "stdout",
     "output_type": "stream",
     "text": [
      "93.21197048889864 7.166127862765637\n"
     ]
    }
   ],
   "source": [
    "print(mds.stress_, nmds.stress_)"
   ]
  },
  {
   "cell_type": "code",
   "execution_count": 75,
   "metadata": {},
   "outputs": [
    {
     "data": {
      "text/plain": [
       "<AxesSubplot:xlabel='0', ylabel='1'>"
      ]
     },
     "execution_count": 75,
     "metadata": {},
     "output_type": "execute_result"
    },
    {
     "data": {
      "image/png": "[encoded data removed]",
      "text/plain": [
       "<Figure size 432x288 with 1 Axes>"
      ]
     },
     "metadata": {
      "needs_background": "light"
     },
     "output_type": "display_data"
    }
   ],
   "source": [
    "axs = sn.scatterplot(x=df_original.iloc[:,0], y=df_original.iloc[:,1], label='original')\n",
    "sn.scatterplot(x=df_mds.iloc[:,0], y=df_mds.iloc[:,1], label='MDS', ax=axs)\n",
    "sn.scatterplot(x=df_nmds.iloc[:,0], y=df_nmds.iloc[:,1], label='NMDS', ax=axs)"
   ]
  }
 ],
 "metadata": {
  "kernelspec": {
   "display_name": "Python 3",
   "language": "python",
   "name": "python3"
  },
  "language_info": {
   "codemirror_mode": {
    "name": "ipython",
    "version": 3
   },
   "file_extension": ".py",
   "mimetype": "text/x-python",
   "name": "python",
   "nbconvert_exporter": "python",
   "pygments_lexer": "ipython3",
   "version": "3.7.9"
  }
 },
 "nbformat": 4,
 "nbformat_minor": 2
}
